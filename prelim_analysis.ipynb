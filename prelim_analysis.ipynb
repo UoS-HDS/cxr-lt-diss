{
 "cells": [
  {
   "cell_type": "code",
   "execution_count": 1,
   "id": "13b3b9d4",
   "metadata": {},
   "outputs": [],
   "source": [
    "from pathlib import Path\n",
    "\n",
    "import pandas as pd\n",
    "import numpy as np\n",
    "import matplotlib.pyplot as plt"
   ]
  },
  {
   "cell_type": "code",
   "execution_count": 18,
   "id": "1b57b354",
   "metadata": {},
   "outputs": [
    {
     "name": "stdout",
     "output_type": "stream",
     "text": [
      "<class 'pandas.core.frame.DataFrame'>\n",
      "RangeIndex: 264849 entries, 0 to 264848\n",
      "Data columns (total 32 columns):\n",
      " #   Column                        Non-Null Count   Dtype \n",
      "---  ------                        --------------   ----- \n",
      " 0   dicom_id                      264849 non-null  object\n",
      " 1   subject_id                    264849 non-null  int64 \n",
      " 2   study_id                      264849 non-null  int64 \n",
      " 3   ViewPosition                  253799 non-null  object\n",
      " 4   ViewCodeSequence_CodeMeaning  253323 non-null  object\n",
      " 5   path                          264849 non-null  object\n",
      " 6   Atelectasis                   264849 non-null  int64 \n",
      " 7   Calcification of the Aorta    264849 non-null  int64 \n",
      " 8   Cardiomegaly                  264849 non-null  int64 \n",
      " 9   Consolidation                 264849 non-null  int64 \n",
      " 10  Edema                         264849 non-null  int64 \n",
      " 11  Emphysema                     264849 non-null  int64 \n",
      " 12  Enlarged Cardiomediastinum    264849 non-null  int64 \n",
      " 13  Fibrosis                      264849 non-null  int64 \n",
      " 14  Fracture                      264849 non-null  int64 \n",
      " 15  Hernia                        264849 non-null  int64 \n",
      " 16  Infiltration                  264849 non-null  int64 \n",
      " 17  Lung Lesion                   264849 non-null  int64 \n",
      " 18  Lung Opacity                  264849 non-null  int64 \n",
      " 19  Mass                          264849 non-null  int64 \n",
      " 20  No Finding                    264849 non-null  int64 \n",
      " 21  Nodule                        264849 non-null  int64 \n",
      " 22  Pleural Effusion              264849 non-null  int64 \n",
      " 23  Pleural Other                 264849 non-null  int64 \n",
      " 24  Pleural Thickening            264849 non-null  int64 \n",
      " 25  Pneumomediastinum             264849 non-null  int64 \n",
      " 26  Pneumonia                     264849 non-null  int64 \n",
      " 27  Pneumoperitoneum              264849 non-null  int64 \n",
      " 28  Pneumothorax                  264849 non-null  int64 \n",
      " 29  Subcutaneous Emphysema        264849 non-null  int64 \n",
      " 30  Support Devices               264849 non-null  int64 \n",
      " 31  Tortuous Aorta                264849 non-null  int64 \n",
      "dtypes: int64(28), object(4)\n",
      "memory usage: 64.7+ MB\n"
     ]
    }
   ],
   "source": [
    "FILE_PATH = Path(\"/mnt/c/Users/rshdk/Documents/hds/remote-proj/dissertation-proj-files/files/cxr-lt-2023/train.csv\")\n",
    "df = pd.read_csv(FILE_PATH)\n",
    "df.info()"
   ]
  },
  {
   "cell_type": "code",
   "execution_count": 24,
   "id": "39e34cf6",
   "metadata": {},
   "outputs": [
    {
     "name": "stdout",
     "output_type": "stream",
     "text": [
      "ViewPosition\n",
      "AP                103312\n",
      "PA                 67559\n",
      "LATERAL            58018\n",
      "LL                 24894\n",
      "PA LLD                 4\n",
      "LAO                    3\n",
      "RAO                    3\n",
      "AP AXIAL               2\n",
      "XTABLE LATERAL         1\n",
      "AP LLD                 1\n",
      "PA RLD                 1\n",
      "AP RLD                 1\n",
      "Name: count, dtype: int64\n"
     ]
    },
    {
     "data": {
      "text/plain": [
       "<Axes: xlabel='ViewPosition'>"
      ]
     },
     "execution_count": 24,
     "metadata": {},
     "output_type": "execute_result"
    },
    {
     "data": {
      "image/png": "[encoded data removed]",
      "text/plain": [
       "<Figure size 640x480 with 1 Axes>"
      ]
     },
     "metadata": {},
     "output_type": "display_data"
    }
   ],
   "source": [
    "print(df[\"ViewPosition\"].value_counts())\n",
    "\n",
    "# view_count = pd.DataFrame({\n",
    "#     \"Frontal\": df[\"ViewPosition\"][df[\"ViewPosition\"].str.contains(\"AP\") | df[\"ViewPosition\"].str.contains(\"PA\")].count(),\n",
    "#     \"Lateral\": df[\"ViewPosition\"][df[\"ViewPosition\"].str.contains(\"Lateral\") | df[\"ViewPosition\"].str.contains(\"LL\")].count(),\n",
    "# })\n",
    "# plt.bar(\n",
    "#     [\"Frontal\", \"Lateral\"],\n",
    "#     view_count.iloc[0],\n",
    "# )\n",
    "df[\"ViewPosition\"].value_counts().plot(kind=\"bar\")"
   ]
  }
 ],
 "metadata": {
  "kernelspec": {
   "display_name": ".venv",
   "language": "python",
   "name": "python3"
  },
  "language_info": {
   "codemirror_mode": {
    "name": "ipython",
    "version": 3
   },
   "file_extension": ".py",
   "mimetype": "text/x-python",
   "name": "python",
   "nbconvert_exporter": "python",
   "pygments_lexer": "ipython3",
   "version": "3.13.1"
  }
 },
 "nbformat": 4,
 "nbformat_minor": 5
}
